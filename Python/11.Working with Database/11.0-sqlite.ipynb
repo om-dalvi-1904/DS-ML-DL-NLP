{
 "cells": [
  {
   "cell_type": "code",
   "execution_count": 1,
   "id": "ce42c21e",
   "metadata": {},
   "outputs": [],
   "source": [
    "import sqlite3"
   ]
  },
  {
   "cell_type": "code",
   "execution_count": 2,
   "id": "2494a3b4",
   "metadata": {},
   "outputs": [
    {
     "data": {
      "text/plain": [
       "<sqlite3.Connection at 0x1ca085f73d0>"
      ]
     },
     "execution_count": 2,
     "metadata": {},
     "output_type": "execute_result"
    }
   ],
   "source": [
    "# connect to an sqLite database\n",
    "\n",
    "connection = sqlite3.connect('example.db')\n",
    "connection"
   ]
  },
  {
   "cell_type": "code",
   "execution_count": 3,
   "id": "e1b65c44",
   "metadata": {},
   "outputs": [],
   "source": [
    "cursor = connection.cursor()"
   ]
  },
  {
   "cell_type": "code",
   "execution_count": 4,
   "id": "b8c362a0",
   "metadata": {},
   "outputs": [],
   "source": [
    "# create a table\n",
    "cursor.execute('''\n",
    "Create Table if not exists employees(\n",
    "    id Integer Primary Key,\n",
    "    name text Not Null,\n",
    "    age integer,\n",
    "    department text\n",
    "    )\n",
    "''')\n",
    "\n",
    "connection.commit()"
   ]
  },
  {
   "cell_type": "code",
   "execution_count": 5,
   "id": "8858d2ea",
   "metadata": {},
   "outputs": [
    {
     "data": {
      "text/plain": [
       "<sqlite3.Cursor at 0x1ca0880f340>"
      ]
     },
     "execution_count": 5,
     "metadata": {},
     "output_type": "execute_result"
    }
   ],
   "source": [
    "cursor.execute('''\n",
    "Select * from employees\n",
    "''')"
   ]
  },
  {
   "cell_type": "code",
   "execution_count": 6,
   "id": "e32d3ced",
   "metadata": {},
   "outputs": [],
   "source": [
    "# imsert the data in sqlite table\n",
    "\n",
    "cursor.execute('''\n",
    "Insert Into employees(name, age, department)\n",
    "    values(\"Om\", 20, \"Developer\")\n",
    "''')\n",
    "\n",
    "connection.commit()"
   ]
  },
  {
   "cell_type": "code",
   "execution_count": 7,
   "id": "e2a5fe95",
   "metadata": {},
   "outputs": [
    {
     "data": {
      "text/plain": [
       "<sqlite3.Cursor at 0x1ca0880f340>"
      ]
     },
     "execution_count": 7,
     "metadata": {},
     "output_type": "execute_result"
    }
   ],
   "source": [
    "cursor.execute('''\n",
    "Select * from employees\n",
    "''')"
   ]
  },
  {
   "cell_type": "code",
   "execution_count": 8,
   "id": "d1d85ff6",
   "metadata": {},
   "outputs": [
    {
     "name": "stdout",
     "output_type": "stream",
     "text": [
      "(1, 'Om', 20, 'Developer')\n"
     ]
    }
   ],
   "source": [
    "# query the data from the table\n",
    "cursor.execute('''\n",
    "Select * from employees\n",
    "''')\n",
    "rows = cursor.fetchall()\n",
    "for row in rows:\n",
    "    print(row)"
   ]
  },
  {
   "cell_type": "code",
   "execution_count": 10,
   "id": "82cb18fb",
   "metadata": {},
   "outputs": [],
   "source": [
    "# update the data in table\n",
    "cursor.execute('''\n",
    "UPDATE employees\n",
    "    Set age=24\n",
    "    where name='Om'\n",
    "''')\n",
    "\n",
    "connection.commit()"
   ]
  },
  {
   "cell_type": "code",
   "execution_count": 15,
   "id": "e56fc298",
   "metadata": {},
   "outputs": [
    {
     "name": "stdout",
     "output_type": "stream",
     "text": [
      "(2, 'Gauri', 25, 'Data Analyst')\n"
     ]
    }
   ],
   "source": [
    "cursor.execute('''\n",
    "Select * from employees\n",
    "''')\n",
    "rows = cursor.fetchall()\n",
    "for row in rows:\n",
    "    print(row)"
   ]
  },
  {
   "cell_type": "code",
   "execution_count": 12,
   "id": "9841c19a",
   "metadata": {},
   "outputs": [],
   "source": [
    "cursor.execute('''\n",
    "Insert Into employees(name, age, department)\n",
    "    values(\"Gauri\", 25, \"Data Analyst\")\n",
    "''')\n",
    "\n",
    "connection.commit()"
   ]
  },
  {
   "cell_type": "code",
   "execution_count": 16,
   "id": "867e0fc2",
   "metadata": {},
   "outputs": [],
   "source": [
    "# delete the data from table\n",
    "\n",
    "cursor.execute('''\n",
    "Delete from employees\n",
    "    where name='Om'\n",
    "''')\n",
    "\n",
    "connection.commit()"
   ]
  },
  {
   "cell_type": "code",
   "execution_count": 17,
   "id": "e6a73722",
   "metadata": {},
   "outputs": [],
   "source": [
    "# close the connection\n",
    "connection.close()"
   ]
  },
  {
   "cell_type": "code",
   "execution_count": null,
   "id": "25a8c7cf",
   "metadata": {},
   "outputs": [],
   "source": []
  }
 ],
 "metadata": {
  "kernelspec": {
   "display_name": "Python 3",
   "language": "python",
   "name": "python3"
  },
  "language_info": {
   "codemirror_mode": {
    "name": "ipython",
    "version": 3
   },
   "file_extension": ".py",
   "mimetype": "text/x-python",
   "name": "python",
   "nbconvert_exporter": "python",
   "pygments_lexer": "ipython3",
   "version": "3.12.9"
  }
 },
 "nbformat": 4,
 "nbformat_minor": 5
}
