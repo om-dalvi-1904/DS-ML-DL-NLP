{
 "cells": [
  {
   "cell_type": "code",
   "execution_count": 1,
   "id": "b6cfb85f",
   "metadata": {},
   "outputs": [],
   "source": [
    "a=100"
   ]
  },
  {
   "cell_type": "code",
   "execution_count": 3,
   "id": "a04687f6",
   "metadata": {},
   "outputs": [
    {
     "name": "stdout",
     "output_type": "stream",
     "text": [
      "Age:  32\n",
      "Height:  6.1\n",
      "Name:  Om\n",
      "Is Student:  True\n"
     ]
    }
   ],
   "source": [
    "#declaring and assigning a variable\n",
    "age=32\n",
    "height=6.1\n",
    "name=\"Om\"\n",
    "is_student=True\n",
    "\n",
    "print(\"Age: \", age)\n",
    "print(\"Height: \", height)\n",
    "print(\"Name: \", name)\n",
    "print(\"Is Student: \", is_student)"
   ]
  },
  {
   "cell_type": "code",
   "execution_count": null,
   "id": "35451682",
   "metadata": {},
   "outputs": [
    {
     "name": "stdout",
     "output_type": "stream",
     "text": [
      "My name is Om, I am 32 years old and my height is 6.1 feet.\n"
     ]
    }
   ],
   "source": [
    "#F string in python\n",
    "print(f\"My name is {name}, I am {age} years old and my height is {height} feet.\")"
   ]
  },
  {
   "cell_type": "code",
   "execution_count": 7,
   "id": "479d8239",
   "metadata": {},
   "outputs": [
    {
     "name": "stdout",
     "output_type": "stream",
     "text": [
      "<class 'int'>\n",
      "<class 'str'>\n"
     ]
    }
   ],
   "source": [
    "#type checking and conversion\n",
    "type(age)\n",
    "age = 25\n",
    "print(type(age))\n",
    "age_str = str(age)\n",
    "print(type(age_str))"
   ]
  },
  {
   "cell_type": "code",
   "execution_count": 8,
   "id": "ad1c2966",
   "metadata": {},
   "outputs": [
    {
     "name": "stdout",
     "output_type": "stream",
     "text": [
      "6\n"
     ]
    }
   ],
   "source": [
    "height = 6.5\n",
    "print(int(height))"
   ]
  },
  {
   "cell_type": "code",
   "execution_count": 11,
   "id": "49b2c07d",
   "metadata": {},
   "outputs": [
    {
     "name": "stdout",
     "output_type": "stream",
     "text": [
      "10 <class 'int'>\n",
      "Hello <class 'str'>\n",
      "3.14 <class 'float'>\n"
     ]
    }
   ],
   "source": [
    "#dynamic typing\n",
    "var=10\n",
    "print(var, type(var))\n",
    "var=\"Hello\"\n",
    "print(var, type(var))\n",
    "var=3.14\n",
    "print(var, type(var))"
   ]
  },
  {
   "cell_type": "code",
   "execution_count": 13,
   "id": "c1d6b1f9",
   "metadata": {},
   "outputs": [
    {
     "name": "stdout",
     "output_type": "stream",
     "text": [
      "10\n"
     ]
    }
   ],
   "source": [
    "#input\n",
    "age=input(\"Enter your age: \")\n",
    "print(age)"
   ]
  },
  {
   "cell_type": "code",
   "execution_count": null,
   "id": "5fc04aec",
   "metadata": {},
   "outputs": [],
   "source": []
  }
 ],
 "metadata": {
  "kernelspec": {
   "display_name": "Python 3",
   "language": "python",
   "name": "python3"
  },
  "language_info": {
   "codemirror_mode": {
    "name": "ipython",
    "version": 3
   },
   "file_extension": ".py",
   "mimetype": "text/x-python",
   "name": "python",
   "nbconvert_exporter": "python",
   "pygments_lexer": "ipython3",
   "version": "3.12.9"
  }
 },
 "nbformat": 4,
 "nbformat_minor": 5
}
