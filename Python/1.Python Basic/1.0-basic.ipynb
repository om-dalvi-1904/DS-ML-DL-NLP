{
 "cells": [
  {
   "cell_type": "code",
   "execution_count": null,
   "id": "b6f48955",
   "metadata": {},
   "outputs": [
    {
     "name": "stdout",
     "output_type": "stream",
     "text": [
      "OmDalvi\n",
      "DalviOm\n"
     ]
    }
   ],
   "source": [
    "##basic syntx\n",
    "\n",
    "#Case sensitive\n",
    "name=\"OmDalvi\"\n",
    "Name=\"DalviOm\"\n",
    "\n",
    "print(name)\n",
    "print(Name)"
   ]
  },
  {
   "cell_type": "code",
   "execution_count": 2,
   "id": "9f93c3ac",
   "metadata": {},
   "outputs": [
    {
     "name": "stdout",
     "output_type": "stream",
     "text": [
      "5 is greater than 2\n"
     ]
    }
   ],
   "source": [
    "#Indentation in python\n",
    "if 5>2:\n",
    "    print(\"5 is greater than 2\")\n",
    "else:\n",
    "    print(\"2 is greater than 5.\")"
   ]
  },
  {
   "cell_type": "code",
   "execution_count": 3,
   "id": "6a030a07",
   "metadata": {},
   "outputs": [
    {
     "name": "stdout",
     "output_type": "stream",
     "text": [
      "56\n"
     ]
    }
   ],
   "source": [
    "#line continuation\n",
    "total = 3+6+6+8+4+5+\\\n",
    "6+3+7+8\n",
    "print(total)"
   ]
  },
  {
   "cell_type": "code",
   "execution_count": 5,
   "id": "3ee67648",
   "metadata": {},
   "outputs": [
    {
     "name": "stdout",
     "output_type": "stream",
     "text": [
      "30\n"
     ]
    }
   ],
   "source": [
    "#multiple statements on a single line\n",
    "x=5; y=10; z=15+x+y\n",
    "print(z)"
   ]
  },
  {
   "cell_type": "code",
   "execution_count": null,
   "id": "bfcd3edf",
   "metadata": {},
   "outputs": [
    {
     "data": {
      "text/plain": [
       "str"
      ]
     },
     "execution_count": 8,
     "metadata": {},
     "output_type": "execute_result"
    }
   ],
   "source": [
    "#semantics in python\n",
    "age=32\n",
    "name=\"Om\"\n",
    "type(age)    #type inferencing\n",
    "type(name)"
   ]
  },
  {
   "cell_type": "code",
   "execution_count": 12,
   "id": "2a1b0454",
   "metadata": {},
   "outputs": [
    {
     "name": "stdout",
     "output_type": "stream",
     "text": [
      "<class 'int'>\n",
      "<class 'str'>\n"
     ]
    }
   ],
   "source": [
    "variable=10\n",
    "print(type(variable))\n",
    "variable=\"Om\"\n",
    "print(type(variable))"
   ]
  },
  {
   "cell_type": "code",
   "execution_count": 13,
   "id": "ffd25c50",
   "metadata": {},
   "outputs": [
    {
     "name": "stdout",
     "output_type": "stream",
     "text": [
      "Correct indentation.\n",
      "This will be printed.\n",
      "End of the program.\n"
     ]
    }
   ],
   "source": [
    "if True:\n",
    "    print(\"Correct indentation.\")\n",
    "    if False:\n",
    "        print(\"This will not be printed.\")\n",
    "    print(\"This will be printed.\")\n",
    "print(\"End of the program.\")"
   ]
  },
  {
   "cell_type": "code",
   "execution_count": null,
   "id": "8ff8fb3b",
   "metadata": {},
   "outputs": [],
   "source": []
  }
 ],
 "metadata": {
  "kernelspec": {
   "display_name": "Python 3",
   "language": "python",
   "name": "python3"
  },
  "language_info": {
   "codemirror_mode": {
    "name": "ipython",
    "version": 3
   },
   "file_extension": ".py",
   "mimetype": "text/x-python",
   "name": "python",
   "nbconvert_exporter": "python",
   "pygments_lexer": "ipython3",
   "version": "3.12.9"
  }
 },
 "nbformat": 4,
 "nbformat_minor": 5
}
