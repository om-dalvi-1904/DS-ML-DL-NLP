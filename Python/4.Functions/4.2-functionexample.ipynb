{
 "cells": [
  {
   "cell_type": "code",
   "execution_count": 6,
   "id": "908ae5b9",
   "metadata": {},
   "outputs": [
    {
     "name": "stdout",
     "output_type": "stream",
     "text": [
      "{'hello': 1, 'world': 1, 'how': 1, 'are': 1, 'you': 1, 'om': 2, 'my': 1, 'name': 1, 'is': 1}\n"
     ]
    }
   ],
   "source": [
    "def count_word_frequency(file_path):\n",
    "    word_count = {}\n",
    "    with open(file_path, 'r') as file:\n",
    "        for line in file:\n",
    "            words = line.split()\n",
    "            for word in words:\n",
    "                word = word.lower().strip('.,!?;:\"\\'')\n",
    "                word_count[word] = word_count.get(word, 0) + 1\n",
    "\n",
    "    return word_count\n",
    "\n",
    "file_path='sample.txt'\n",
    "word_count = count_word_frequency(file_path)\n",
    "print(word_count)"
   ]
  },
  {
   "cell_type": "code",
   "execution_count": null,
   "id": "f31c60b9",
   "metadata": {},
   "outputs": [],
   "source": []
  }
 ],
 "metadata": {
  "kernelspec": {
   "display_name": "Python 3",
   "language": "python",
   "name": "python3"
  },
  "language_info": {
   "codemirror_mode": {
    "name": "ipython",
    "version": 3
   },
   "file_extension": ".py",
   "mimetype": "text/x-python",
   "name": "python",
   "nbconvert_exporter": "python",
   "pygments_lexer": "ipython3",
   "version": "3.12.9"
  }
 },
 "nbformat": 4,
 "nbformat_minor": 5
}
