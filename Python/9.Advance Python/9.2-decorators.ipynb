{
 "cells": [
  {
   "cell_type": "code",
   "execution_count": 1,
   "id": "3d53c6fe",
   "metadata": {},
   "outputs": [
    {
     "data": {
      "text/plain": [
       "'Welcome to the advanced python course'"
      ]
     },
     "execution_count": 1,
     "metadata": {},
     "output_type": "execute_result"
    }
   ],
   "source": [
    "##function copy\n",
    "\n",
    "def welcome():\n",
    "    return \"Welcome to the advanced python course\"\n",
    "\n",
    "welcome()"
   ]
  },
  {
   "cell_type": "code",
   "execution_count": 2,
   "id": "d688120c",
   "metadata": {},
   "outputs": [
    {
     "data": {
      "text/plain": [
       "'Welcome to the advanced python course'"
      ]
     },
     "execution_count": 2,
     "metadata": {},
     "output_type": "execute_result"
    }
   ],
   "source": [
    "wel = welcome()\n",
    "wel"
   ]
  },
  {
   "cell_type": "code",
   "execution_count": 7,
   "id": "07d80f89",
   "metadata": {},
   "outputs": [],
   "source": [
    "##closures\n",
    "def main_welcome(msg):\n",
    "    msg = 'welcome'\n",
    "    def sub_welcome():\n",
    "        print(\"Welcome to advanced python course.\")\n",
    "        print(msg)\n",
    "        print(\"Learn these concepts properly.\")\n",
    "    return sub_welcome()"
   ]
  },
  {
   "cell_type": "code",
   "execution_count": 8,
   "id": "c7320945",
   "metadata": {},
   "outputs": [
    {
     "name": "stdout",
     "output_type": "stream",
     "text": [
      "Welcome to advanced python course.\n",
      "welcome\n",
      "Learn these concepts properly.\n"
     ]
    }
   ],
   "source": [
    "main_welcome(\"Om\")"
   ]
  },
  {
   "cell_type": "code",
   "execution_count": 11,
   "id": "313d6428",
   "metadata": {},
   "outputs": [],
   "source": [
    "def main_welcome(func):\n",
    "    def sub_welcome():\n",
    "        print(\"Welcome to advanced python course.\")\n",
    "        func(\"This is from func call.\")\n",
    "        print(\"Learn these concepts properly.\")\n",
    "    return sub_welcome()"
   ]
  },
  {
   "cell_type": "code",
   "execution_count": 12,
   "id": "05d99391",
   "metadata": {},
   "outputs": [
    {
     "name": "stdout",
     "output_type": "stream",
     "text": [
      "Welcome to advanced python course.\n",
      "This is from func call.\n",
      "Learn these concepts properly.\n"
     ]
    }
   ],
   "source": [
    "main_welcome(print)"
   ]
  },
  {
   "cell_type": "code",
   "execution_count": 16,
   "id": "20a2912f",
   "metadata": {},
   "outputs": [],
   "source": [
    "#decorators\n",
    "def main_welcome(func):\n",
    "    def sub_welcome():\n",
    "        print(\"Welcome to advanced python course.\")\n",
    "        func()\n",
    "        print(\"Please learn these concepts properly.\")\n",
    "    return sub_welcome()"
   ]
  },
  {
   "cell_type": "code",
   "execution_count": 17,
   "id": "59e1d151",
   "metadata": {},
   "outputs": [
    {
     "name": "stdout",
     "output_type": "stream",
     "text": [
      "This is an advanced python course.\n"
     ]
    }
   ],
   "source": [
    "def course_intro():\n",
    "    print(\"This is an advanced python course.\")\n",
    "\n",
    "course_intro()"
   ]
  },
  {
   "cell_type": "code",
   "execution_count": 18,
   "id": "21f5d0ea",
   "metadata": {},
   "outputs": [
    {
     "name": "stdout",
     "output_type": "stream",
     "text": [
      "Welcome to advanced python course.\n",
      "This is an advanced python course.\n",
      "Please learn these concepts properly.\n"
     ]
    }
   ],
   "source": [
    "main_welcome(course_intro)"
   ]
  },
  {
   "cell_type": "code",
   "execution_count": 19,
   "id": "aae7f182",
   "metadata": {},
   "outputs": [
    {
     "name": "stdout",
     "output_type": "stream",
     "text": [
      "Welcome to advanced python course.\n",
      "This is an advanced python course.\n",
      "Please learn these concepts properly.\n"
     ]
    }
   ],
   "source": [
    "@main_welcome\n",
    "def course_intro():\n",
    "    print(\"This is an advanced python course.\")"
   ]
  },
  {
   "cell_type": "code",
   "execution_count": 20,
   "id": "84f9691f",
   "metadata": {},
   "outputs": [
    {
     "name": "stdout",
     "output_type": "stream",
     "text": [
      "Before calling function\n",
      "Hello!\n",
      "After calling function\n"
     ]
    }
   ],
   "source": [
    "def my_decorator(func):\n",
    "    def wrapper(*args, **kwargs):\n",
    "        print(\"Before calling function\")\n",
    "        result = func(*args, **kwargs)\n",
    "        print(\"After calling function\")\n",
    "        return result\n",
    "    return wrapper\n",
    "\n",
    "@my_decorator\n",
    "def say_hello():\n",
    "    print(\"Hello!\")\n",
    "\n",
    "say_hello()"
   ]
  },
  {
   "cell_type": "code",
   "execution_count": 21,
   "id": "43f8720f",
   "metadata": {},
   "outputs": [],
   "source": [
    "#decorators\n",
    "def my_decorator(func):\n",
    "    def wrapper():\n",
    "        print(\"Something is happening before call.\")\n",
    "        func()\n",
    "        print(\"Something is happening after call.\")\n",
    "    return wrapper"
   ]
  },
  {
   "cell_type": "code",
   "execution_count": 24,
   "id": "5040ab2e",
   "metadata": {},
   "outputs": [],
   "source": [
    "@my_decorator\n",
    "def say_hello():   #this function is passed as parameter to the above function(my_decorator)\n",
    "    print(\"Hello\")"
   ]
  },
  {
   "cell_type": "code",
   "execution_count": 25,
   "id": "bb29dbd7",
   "metadata": {},
   "outputs": [
    {
     "name": "stdout",
     "output_type": "stream",
     "text": [
      "Something is happening before call.\n",
      "Hello\n",
      "Something is happening after call.\n"
     ]
    }
   ],
   "source": [
    "say_hello()"
   ]
  },
  {
   "cell_type": "code",
   "execution_count": 27,
   "id": "73e0a484",
   "metadata": {},
   "outputs": [],
   "source": [
    "##decorators with arg\n",
    "def repeat(n):\n",
    "    def decorator(func):\n",
    "        def wrapper(*args, **kwargs):\n",
    "            for _ in range(n):\n",
    "                func(*args, **kwargs)\n",
    "        return wrapper\n",
    "    return decorator"
   ]
  },
  {
   "cell_type": "code",
   "execution_count": 28,
   "id": "3ad84360",
   "metadata": {},
   "outputs": [
    {
     "name": "stdout",
     "output_type": "stream",
     "text": [
      "Hello\n",
      "Hello\n",
      "Hello\n"
     ]
    }
   ],
   "source": [
    "@repeat(3)\n",
    "def say_hello():\n",
    "    print(\"Hello\")\n",
    "\n",
    "say_hello()"
   ]
  },
  {
   "cell_type": "code",
   "execution_count": null,
   "id": "76992605",
   "metadata": {},
   "outputs": [],
   "source": []
  }
 ],
 "metadata": {
  "kernelspec": {
   "display_name": "Python 3",
   "language": "python",
   "name": "python3"
  },
  "language_info": {
   "codemirror_mode": {
    "name": "ipython",
    "version": 3
   },
   "file_extension": ".py",
   "mimetype": "text/x-python",
   "name": "python",
   "nbconvert_exporter": "python",
   "pygments_lexer": "ipython3",
   "version": "3.12.9"
  }
 },
 "nbformat": 4,
 "nbformat_minor": 5
}
