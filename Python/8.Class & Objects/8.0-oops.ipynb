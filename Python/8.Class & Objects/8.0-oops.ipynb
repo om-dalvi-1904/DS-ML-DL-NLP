{
 "cells": [
  {
   "cell_type": "code",
   "execution_count": 1,
   "id": "4dbb198a",
   "metadata": {},
   "outputs": [
    {
     "name": "stdout",
     "output_type": "stream",
     "text": [
      "<class '__main__.Car'>\n"
     ]
    }
   ],
   "source": [
    "class Car:\n",
    "    pass\n",
    "\n",
    "audi = Car()\n",
    "bmw = Car()\n",
    "\n",
    "print(type(audi))"
   ]
  },
  {
   "cell_type": "code",
   "execution_count": 4,
   "id": "24acae61",
   "metadata": {},
   "outputs": [
    {
     "name": "stdout",
     "output_type": "stream",
     "text": [
      "<__main__.Dog object at 0x000001F1EE450F50>\n",
      "Tom\n",
      "5\n"
     ]
    }
   ],
   "source": [
    "#instance variable and methods\n",
    "class Dog:\n",
    "    #constructor \n",
    "    def __init__(self, name, age):\n",
    "        self.name = name\n",
    "        self.age = age\n",
    "\n",
    "#reate a object\n",
    "dog1 = Dog(\"Tom\", 5)\n",
    "print(dog1)\n",
    "print(dog1.name)\n",
    "print(dog1.age)"
   ]
  },
  {
   "cell_type": "code",
   "execution_count": 5,
   "id": "f245df68",
   "metadata": {},
   "outputs": [
    {
     "name": "stdout",
     "output_type": "stream",
     "text": [
      "Buddy says woof\n"
     ]
    }
   ],
   "source": [
    "class Dog:\n",
    "    def __init__(self, name, age):\n",
    "        self.name = name\n",
    "        self.age = age\n",
    "\n",
    "    def barking(self):\n",
    "        print(f\"{self.name} says woof\")\n",
    "\n",
    "dog1 = Dog(\"Buddy\", 3)\n",
    "dog1.barking()"
   ]
  },
  {
   "cell_type": "code",
   "execution_count": 6,
   "id": "c9295a64",
   "metadata": {},
   "outputs": [
    {
     "name": "stdout",
     "output_type": "stream",
     "text": [
      "Current balance is 500.\n"
     ]
    }
   ],
   "source": [
    "##modeling a bank account\n",
    "class BankAccount:\n",
    "    def __init__(self, owner, balance=0):\n",
    "        self.owner = owner\n",
    "        self.balance = balance\n",
    "\n",
    "    def deposit(self, amount):\n",
    "        self.balance += amount\n",
    "        print(f\"Current balance is {self.balance}.\")\n",
    "\n",
    "    def withdraw(self, amount):\n",
    "        if(amount < self.balance):\n",
    "            self.balance -= amount\n",
    "            print(f\"Current balance is {self.balance}.\")\n",
    "        else:\n",
    "            print(\"Insufficient funds.\")\n",
    "\n",
    "    def getbalance(self):\n",
    "        print(f\"Current balance is {self.balance}.\")\n",
    "\n",
    "account= BankAccount(\"Om\", 500)\n",
    "account.getbalance()"
   ]
  },
  {
   "cell_type": "code",
   "execution_count": 7,
   "id": "b3ccb5a9",
   "metadata": {},
   "outputs": [
    {
     "name": "stdout",
     "output_type": "stream",
     "text": [
      "Current balance is 1100.\n",
      "Current balance is 1100.\n"
     ]
    }
   ],
   "source": [
    "account.deposit(600)\n",
    "account.getbalance()"
   ]
  },
  {
   "cell_type": "code",
   "execution_count": 8,
   "id": "05612159",
   "metadata": {},
   "outputs": [
    {
     "name": "stdout",
     "output_type": "stream",
     "text": [
      "Current balance is 400.\n"
     ]
    }
   ],
   "source": [
    "account.withdraw(700)"
   ]
  },
  {
   "cell_type": "markdown",
   "id": "8d62a6cf",
   "metadata": {},
   "source": [
    "#### Conclusion\n",
    "OOP studies and executed successfully."
   ]
  },
  {
   "cell_type": "markdown",
   "id": "4ecb15d5",
   "metadata": {},
   "source": []
  }
 ],
 "metadata": {
  "kernelspec": {
   "display_name": "Python 3",
   "language": "python",
   "name": "python3"
  },
  "language_info": {
   "codemirror_mode": {
    "name": "ipython",
    "version": 3
   },
   "file_extension": ".py",
   "mimetype": "text/x-python",
   "name": "python",
   "nbconvert_exporter": "python",
   "pygments_lexer": "ipython3",
   "version": "3.12.9"
  }
 },
 "nbformat": 4,
 "nbformat_minor": 5
}
