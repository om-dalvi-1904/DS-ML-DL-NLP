{
 "cells": [
  {
   "cell_type": "code",
   "execution_count": 4,
   "id": "760f00d1",
   "metadata": {},
   "outputs": [
    {
     "name": "stdout",
     "output_type": "stream",
     "text": [
      "Sound of the animal.\n",
      "Woof!\n",
      "Meow!\n",
      "Woof!\n"
     ]
    }
   ],
   "source": [
    "##method overriding\n",
    "class Animal:\n",
    "    def speak(self):\n",
    "        return \"Sound of the animal.\"\n",
    "\n",
    "class Dog(Animal):\n",
    "    def speak(self):\n",
    "        return \"Woof!\"\n",
    "\n",
    "class Cat(Animal):\n",
    "    def speak(self):\n",
    "        return \"Meow!\"\n",
    "\n",
    "def animal_speak(animal):\n",
    "    print(animal.speak())\n",
    "\n",
    "lion = Animal()\n",
    "print(lion.speak())\n",
    "\n",
    "dog = Dog()\n",
    "print(dog.speak())\n",
    "\n",
    "cat = Cat()\n",
    "print(cat.speak())\n",
    "\n",
    "animal_speak(dog)"
   ]
  },
  {
   "cell_type": "code",
   "execution_count": 13,
   "id": "d3f24aaa",
   "metadata": {},
   "outputs": [
    {
     "name": "stdout",
     "output_type": "stream",
     "text": [
      "Area is 20\n",
      "Area is 16\n"
     ]
    }
   ],
   "source": [
    "##polymorphism with functions and methods\n",
    "\n",
    "class Shape:\n",
    "    def area(self):\n",
    "        return \"The area of the figure\"\n",
    "\n",
    "class Rectangle(Shape):\n",
    "    def __init__(self, width, height):\n",
    "        self.width = width\n",
    "        self.height = height\n",
    "\n",
    "    def area(self):\n",
    "        return self.width*self.height\n",
    "\n",
    "class Square(Shape):\n",
    "    def __init__(self, side):\n",
    "        self.side = side\n",
    "\n",
    "    def area(self):\n",
    "        return self.side*self.side\n",
    "\n",
    "def cal_area(shape):\n",
    "    print(f\"Area is {shape.area()}\")\n",
    "\n",
    "rect = Rectangle(4, 5)\n",
    "sq = Square(4)\n",
    "cal_area(rect)\n",
    "cal_area(sq)"
   ]
  },
  {
   "cell_type": "code",
   "execution_count": 14,
   "id": "00d69581",
   "metadata": {},
   "outputs": [
    {
     "ename": "NameError",
     "evalue": "name 'start_engine' is not defined",
     "output_type": "error",
     "traceback": [
      "\u001b[31m---------------------------------------------------------------------------\u001b[39m",
      "\u001b[31mNameError\u001b[39m                                 Traceback (most recent call last)",
      "\u001b[36mCell\u001b[39m\u001b[36m \u001b[39m\u001b[32mIn[14]\u001b[39m\u001b[32m, line 24\u001b[39m\n\u001b[32m     21\u001b[39m car = Car()\n\u001b[32m     22\u001b[39m motorcycle = MotorCycle()\n\u001b[32m---> \u001b[39m\u001b[32m24\u001b[39m \u001b[43mstart_engine\u001b[49m(car)\n",
      "\u001b[31mNameError\u001b[39m: name 'start_engine' is not defined"
     ]
    }
   ],
   "source": [
    "##polymorphism with abstract base classes\n",
    "from abc import ABC, abstractmethod\n",
    "\n",
    "#define an abstract class\n",
    "class Vehicle(ABC):\n",
    "    @abstractmethod\n",
    "    def start_engine(self):\n",
    "        pass\n",
    "\n",
    "#derived class 1\n",
    "class Car(Vehicle):\n",
    "    def start_engine(self):\n",
    "        return \"Car engine started.\"\n",
    "\n",
    "#derived class 2\n",
    "class MotorCycle(Vehicle):\n",
    "    def start_engine(self):\n",
    "        return \"Motorcycle engine started.\"\n",
    "\n",
    "#create objects of car and motorcycle\n",
    "car = Car()\n",
    "motorcycle = MotorCycle()\n",
    "\n",
    "start_engine(car)"
   ]
  },
  {
   "cell_type": "code",
   "execution_count": null,
   "id": "3809721c",
   "metadata": {},
   "outputs": [],
   "source": []
  }
 ],
 "metadata": {
  "kernelspec": {
   "display_name": "Python 3",
   "language": "python",
   "name": "python3"
  },
  "language_info": {
   "codemirror_mode": {
    "name": "ipython",
    "version": 3
   },
   "file_extension": ".py",
   "mimetype": "text/x-python",
   "name": "python",
   "nbconvert_exporter": "python",
   "pygments_lexer": "ipython3",
   "version": "3.12.9"
  }
 },
 "nbformat": 4,
 "nbformat_minor": 5
}
