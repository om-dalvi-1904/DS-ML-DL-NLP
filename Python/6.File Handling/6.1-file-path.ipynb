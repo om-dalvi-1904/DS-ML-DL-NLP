{
 "cells": [
  {
   "cell_type": "code",
   "execution_count": 1,
   "id": "a7b982e2",
   "metadata": {},
   "outputs": [
    {
     "name": "stdout",
     "output_type": "stream",
     "text": [
      "d:\\DS, ML, DL, NLP\\Python\\6.File Handling\n"
     ]
    }
   ],
   "source": [
    "import os\n",
    "\n",
    "cwd = os.getcwd()\n",
    "print(cwd)"
   ]
  },
  {
   "cell_type": "code",
   "execution_count": null,
   "id": "174b217b",
   "metadata": {},
   "outputs": [
    {
     "name": "stdout",
     "output_type": "stream",
     "text": [
      "Directory created.\n"
     ]
    }
   ],
   "source": [
    "#creating a new directory\n",
    "\n",
    "new_dir = \"package\"\n",
    "os.mkdir(new_dir)\n",
    "print(\"Directory created.\")"
   ]
  },
  {
   "cell_type": "code",
   "execution_count": 3,
   "id": "a50de19a",
   "metadata": {},
   "outputs": [
    {
     "name": "stdout",
     "output_type": "stream",
     "text": [
      "['6.0-file-operation.ipynb', '6.1-file-path.ipynb', 'dest.txt', 'example.bin', 'example.txt', 'package']\n"
     ]
    }
   ],
   "source": [
    "#listing files in the directory\n",
    "\n",
    "items = os.listdir(\".\")\n",
    "print(items)"
   ]
  },
  {
   "cell_type": "code",
   "execution_count": 6,
   "id": "ef2cabd7",
   "metadata": {},
   "outputs": [
    {
     "name": "stdout",
     "output_type": "stream",
     "text": [
      "folder\\file.txt\n",
      "d:\\DS, ML, DL, NLP\\Python\\6.File Handling\\folder\\file.txt\n"
     ]
    }
   ],
   "source": [
    "#joining paths\n",
    "\n",
    "dir_name = 'folder'\n",
    "file_name = 'file.txt'\n",
    "full_path = os.path.join(dir_name, file_name)\n",
    "full_path_dir = os.path.join(os.getcwd(),dir_name, file_name)\n",
    "\n",
    "print(full_path)\n",
    "print(full_path_dir)"
   ]
  },
  {
   "cell_type": "code",
   "execution_count": 8,
   "id": "af5b1de4",
   "metadata": {},
   "outputs": [
    {
     "name": "stdout",
     "output_type": "stream",
     "text": [
      "Path doesn't exists.\n"
     ]
    }
   ],
   "source": [
    "path = 'example1.txt'\n",
    "if os.path.exists(path=path):\n",
    "    print(\"The path exists.\")\n",
    "else:\n",
    "    print(\"Path doesn't exists.\")"
   ]
  },
  {
   "cell_type": "code",
   "execution_count": 9,
   "id": "703c9e30",
   "metadata": {},
   "outputs": [
    {
     "name": "stdout",
     "output_type": "stream",
     "text": [
      "d:\\DS, ML, DL, NLP\\Python\\6.File Handling\\example.txt\n"
     ]
    }
   ],
   "source": [
    "#geting the absolute path\n",
    "relative_path = 'example.txt'\n",
    "absolute_path = os.path.abspath(relative_path)\n",
    "\n",
    "print(absolute_path)"
   ]
  },
  {
   "cell_type": "code",
   "execution_count": null,
   "id": "5ded9700",
   "metadata": {},
   "outputs": [],
   "source": []
  }
 ],
 "metadata": {
  "kernelspec": {
   "display_name": "Python 3",
   "language": "python",
   "name": "python3"
  },
  "language_info": {
   "codemirror_mode": {
    "name": "ipython",
    "version": 3
   },
   "file_extension": ".py",
   "mimetype": "text/x-python",
   "name": "python",
   "nbconvert_exporter": "python",
   "pygments_lexer": "ipython3",
   "version": "3.12.9"
  }
 },
 "nbformat": 4,
 "nbformat_minor": 5
}
