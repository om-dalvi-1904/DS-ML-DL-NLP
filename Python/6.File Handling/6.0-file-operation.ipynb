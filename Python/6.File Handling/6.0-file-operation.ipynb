{
 "cells": [
  {
   "cell_type": "code",
   "execution_count": 1,
   "id": "f8b205c7",
   "metadata": {},
   "outputs": [
    {
     "name": "stdout",
     "output_type": "stream",
     "text": [
      "Hello python developer!\n"
     ]
    }
   ],
   "source": [
    "##reading whole file\n",
    "\n",
    "with open('example.txt', mode='r') as file:\n",
    "    reader = file.read()\n",
    "    print(reader)"
   ]
  },
  {
   "cell_type": "code",
   "execution_count": 2,
   "id": "a8ae1467",
   "metadata": {},
   "outputs": [
    {
     "name": "stdout",
     "output_type": "stream",
     "text": [
      "Hello python developer!\n",
      "\n",
      "Are you enjoing your python journey?\n",
      "\n",
      "Yesss, absolutely...\n"
     ]
    }
   ],
   "source": [
    "##read a file line by line\n",
    "\n",
    "with open('example.txt', 'r') as file:\n",
    "    for line in file:\n",
    "        print(line)"
   ]
  },
  {
   "cell_type": "code",
   "execution_count": null,
   "id": "6c56a346",
   "metadata": {},
   "outputs": [
    {
     "name": "stdout",
     "output_type": "stream",
     "text": [
      "Hello python developer!\n",
      "Are you enjoing your python journey?\n",
      "Yesss, absolutely...\n"
     ]
    }
   ],
   "source": [
    "##read a file line by line\n",
    "\n",
    "with open('example.txt', 'r') as file:\n",
    "    for line in file:\n",
    "        print(line.strip())  #removes the new line character"
   ]
  },
  {
   "cell_type": "code",
   "execution_count": 5,
   "id": "b0fb5895",
   "metadata": {},
   "outputs": [
    {
     "name": "stdout",
     "output_type": "stream",
     "text": [
      "10\n"
     ]
    }
   ],
   "source": [
    "##writing a file\n",
    "\n",
    "with open('example.txt', mode='w') as file:\n",
    "    writer = file.write(\"Hello Om!\\n\")\n",
    "    print(writer)"
   ]
  },
  {
   "cell_type": "code",
   "execution_count": 8,
   "id": "110fd8b7",
   "metadata": {},
   "outputs": [],
   "source": [
    "##writing a file without overwriting\n",
    "\n",
    "with open('example.txt', mode='a') as file:\n",
    "    file.write(\"This is appended text. For the third time.\\n\")"
   ]
  },
  {
   "cell_type": "code",
   "execution_count": 9,
   "id": "49ed2470",
   "metadata": {},
   "outputs": [],
   "source": [
    "##writing a list of lines to a file\n",
    "\n",
    "lines = [\"First line.\\n\", \"Second line.\\n\", \"Third line\\n\"]\n",
    "\n",
    "with open('example.txt', mode='a') as file:\n",
    "    for line in lines:\n",
    "        file.write(line)"
   ]
  },
  {
   "cell_type": "code",
   "execution_count": 10,
   "id": "e033b4b4",
   "metadata": {},
   "outputs": [],
   "source": [
    "##binary files\n",
    "\n",
    "data = b'\\x00\\x01\\x02\\x03\\x04'\n",
    "with open('example.bin', mode='wb') as file:\n",
    "    file.write(data)"
   ]
  },
  {
   "cell_type": "code",
   "execution_count": 12,
   "id": "9c8f847f",
   "metadata": {},
   "outputs": [
    {
     "name": "stdout",
     "output_type": "stream",
     "text": [
      "b'\\x00\\x01\\x02\\x03\\x04'\n"
     ]
    }
   ],
   "source": [
    "with open('example.bin', 'rb') as file:\n",
    "    reader = file.read()\n",
    "    print(reader)"
   ]
  },
  {
   "cell_type": "code",
   "execution_count": 14,
   "id": "04d1c520",
   "metadata": {},
   "outputs": [],
   "source": [
    "##read content from src and write it to dest txt file\n",
    "\n",
    "with open('example.txt', 'r') as file:\n",
    "    content = file.read()\n",
    "\n",
    "with open('dest.txt', 'w') as file:\n",
    "    file.write(content)"
   ]
  },
  {
   "cell_type": "code",
   "execution_count": 18,
   "id": "75a6c355",
   "metadata": {},
   "outputs": [
    {
     "name": "stdout",
     "output_type": "stream",
     "text": [
      "Hello world\n",
      "This is a new line.\n",
      "\n"
     ]
    }
   ],
   "source": [
    "##writing and then reading a file\n",
    "\n",
    "with open('example.txt', 'w+') as file:\n",
    "    file.write('Hello world\\n')\n",
    "    file.write('This is a new line.\\n')\n",
    "\n",
    "    #move the file cursor to first line\n",
    "    file.seek(0)\n",
    "\n",
    "    #read the content of the file\n",
    "    content = file.read()\n",
    "    print(content)"
   ]
  },
  {
   "cell_type": "code",
   "execution_count": null,
   "id": "131a3c94",
   "metadata": {},
   "outputs": [],
   "source": []
  }
 ],
 "metadata": {
  "kernelspec": {
   "display_name": "Python 3",
   "language": "python",
   "name": "python3"
  },
  "language_info": {
   "codemirror_mode": {
    "name": "ipython",
    "version": 3
   },
   "file_extension": ".py",
   "mimetype": "text/x-python",
   "name": "python",
   "nbconvert_exporter": "python",
   "pygments_lexer": "ipython3",
   "version": "3.12.9"
  }
 },
 "nbformat": 4,
 "nbformat_minor": 5
}
